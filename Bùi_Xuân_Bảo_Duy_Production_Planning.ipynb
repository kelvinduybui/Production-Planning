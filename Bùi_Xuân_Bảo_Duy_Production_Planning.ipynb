{
  "cells": [
    {
      "cell_type": "markdown",
      "metadata": {
        "id": "49ubAdz-mlSl"
      },
      "source": [
        "# Install and call library"
      ]
    },
    {
      "cell_type": "code",
      "execution_count": 8,
      "metadata": {
        "colab": {
          "base_uri": "https://localhost:8080/"
        },
        "id": "Ri4llyltmRVC",
        "outputId": "3b8e9422-dd12-492b-82b9-ce8a0ccc9708"
      },
      "outputs": [
        {
          "output_type": "stream",
          "name": "stdout",
          "text": [
            "Requirement already satisfied: gurobipy in /usr/local/lib/python3.12/dist-packages (12.0.3)\n"
          ]
        }
      ],
      "source": [
        "# Install gurobipy library\n",
        "!pip install gurobipy"
      ]
    },
    {
      "cell_type": "code",
      "execution_count": 9,
      "metadata": {
        "id": "XFscwzo_mcFg"
      },
      "outputs": [],
      "source": [
        "# Call gurobipy library\n",
        "import gurobipy as gp\n",
        "\n",
        "# Call pandas library\n",
        "import pandas as pd"
      ]
    },
    {
      "cell_type": "markdown",
      "metadata": {
        "id": "5PBw7vu2moZM"
      },
      "source": [
        "# Setup sets and parameters"
      ]
    },
    {
      "cell_type": "code",
      "execution_count": 10,
      "metadata": {
        "id": "RzL_6LYamfIb"
      },
      "outputs": [],
      "source": [
        "# Sets\n",
        "I = 80 # Set of workforce (Labor 1, Labor 2, ..., Labor 80) (80 workers)\n",
        "J = 7 # Set of weekday (Monday, Tuesday, ..., Sunday) (1 week 7 days)\n",
        "K = 3 # Set of shift (Morning, Afternoon, Evening) (1 day 3 shift)\n",
        "\n",
        "# Parameters\n",
        "demand = [\n",
        "    [18, 15, 10],  # Monday   = 43\n",
        "    [20, 20, 10],  # Tuesday  = 50\n",
        "    [24, 20, 16],  # Wednesday= 60\n",
        "    [16, 14, 10],  # Thursday = 40\n",
        "    [18, 17, 10],  # Friday   = 45\n",
        "    [25, 24, 12],  # Saturday = 61\n",
        "    [22, 25, 13]   # Sunday   = 60\n",
        "]\n",
        "\n",
        "\n",
        "ft = [1]*60 + [0]*20  # 80 workers with 60 full-time, 20 part-time)"
      ]
    },
    {
      "cell_type": "markdown",
      "metadata": {
        "id": "srrLPIO5muaR"
      },
      "source": [
        "# Setup model"
      ]
    },
    {
      "cell_type": "code",
      "execution_count": 11,
      "metadata": {
        "colab": {
          "base_uri": "https://localhost:8080/"
        },
        "collapsed": true,
        "id": "e8UZIZQlmwJE",
        "outputId": "ce1bb380-e1a0-41dc-a9b3-91b4851d963b"
      },
      "outputs": [
        {
          "output_type": "execute_result",
          "data": {
            "text/plain": [
              "{0: <gurobi.Constr *Awaiting Model Update*>,\n",
              " 1: <gurobi.Constr *Awaiting Model Update*>,\n",
              " 2: <gurobi.Constr *Awaiting Model Update*>,\n",
              " 3: <gurobi.Constr *Awaiting Model Update*>,\n",
              " 4: <gurobi.Constr *Awaiting Model Update*>,\n",
              " 5: <gurobi.Constr *Awaiting Model Update*>,\n",
              " 6: <gurobi.Constr *Awaiting Model Update*>,\n",
              " 7: <gurobi.Constr *Awaiting Model Update*>,\n",
              " 8: <gurobi.Constr *Awaiting Model Update*>,\n",
              " 9: <gurobi.Constr *Awaiting Model Update*>,\n",
              " 10: <gurobi.Constr *Awaiting Model Update*>,\n",
              " 11: <gurobi.Constr *Awaiting Model Update*>,\n",
              " 12: <gurobi.Constr *Awaiting Model Update*>,\n",
              " 13: <gurobi.Constr *Awaiting Model Update*>,\n",
              " 14: <gurobi.Constr *Awaiting Model Update*>,\n",
              " 15: <gurobi.Constr *Awaiting Model Update*>,\n",
              " 16: <gurobi.Constr *Awaiting Model Update*>,\n",
              " 17: <gurobi.Constr *Awaiting Model Update*>,\n",
              " 18: <gurobi.Constr *Awaiting Model Update*>,\n",
              " 19: <gurobi.Constr *Awaiting Model Update*>,\n",
              " 20: <gurobi.Constr *Awaiting Model Update*>,\n",
              " 21: <gurobi.Constr *Awaiting Model Update*>,\n",
              " 22: <gurobi.Constr *Awaiting Model Update*>,\n",
              " 23: <gurobi.Constr *Awaiting Model Update*>,\n",
              " 24: <gurobi.Constr *Awaiting Model Update*>,\n",
              " 25: <gurobi.Constr *Awaiting Model Update*>,\n",
              " 26: <gurobi.Constr *Awaiting Model Update*>,\n",
              " 27: <gurobi.Constr *Awaiting Model Update*>,\n",
              " 28: <gurobi.Constr *Awaiting Model Update*>,\n",
              " 29: <gurobi.Constr *Awaiting Model Update*>,\n",
              " 30: <gurobi.Constr *Awaiting Model Update*>,\n",
              " 31: <gurobi.Constr *Awaiting Model Update*>,\n",
              " 32: <gurobi.Constr *Awaiting Model Update*>,\n",
              " 33: <gurobi.Constr *Awaiting Model Update*>,\n",
              " 34: <gurobi.Constr *Awaiting Model Update*>,\n",
              " 35: <gurobi.Constr *Awaiting Model Update*>,\n",
              " 36: <gurobi.Constr *Awaiting Model Update*>,\n",
              " 37: <gurobi.Constr *Awaiting Model Update*>,\n",
              " 38: <gurobi.Constr *Awaiting Model Update*>,\n",
              " 39: <gurobi.Constr *Awaiting Model Update*>,\n",
              " 40: <gurobi.Constr *Awaiting Model Update*>,\n",
              " 41: <gurobi.Constr *Awaiting Model Update*>,\n",
              " 42: <gurobi.Constr *Awaiting Model Update*>,\n",
              " 43: <gurobi.Constr *Awaiting Model Update*>,\n",
              " 44: <gurobi.Constr *Awaiting Model Update*>,\n",
              " 45: <gurobi.Constr *Awaiting Model Update*>,\n",
              " 46: <gurobi.Constr *Awaiting Model Update*>,\n",
              " 47: <gurobi.Constr *Awaiting Model Update*>,\n",
              " 48: <gurobi.Constr *Awaiting Model Update*>,\n",
              " 49: <gurobi.Constr *Awaiting Model Update*>,\n",
              " 50: <gurobi.Constr *Awaiting Model Update*>,\n",
              " 51: <gurobi.Constr *Awaiting Model Update*>,\n",
              " 52: <gurobi.Constr *Awaiting Model Update*>,\n",
              " 53: <gurobi.Constr *Awaiting Model Update*>,\n",
              " 54: <gurobi.Constr *Awaiting Model Update*>,\n",
              " 55: <gurobi.Constr *Awaiting Model Update*>,\n",
              " 56: <gurobi.Constr *Awaiting Model Update*>,\n",
              " 57: <gurobi.Constr *Awaiting Model Update*>,\n",
              " 58: <gurobi.Constr *Awaiting Model Update*>,\n",
              " 59: <gurobi.Constr *Awaiting Model Update*>,\n",
              " 60: <gurobi.Constr *Awaiting Model Update*>,\n",
              " 61: <gurobi.Constr *Awaiting Model Update*>,\n",
              " 62: <gurobi.Constr *Awaiting Model Update*>,\n",
              " 63: <gurobi.Constr *Awaiting Model Update*>,\n",
              " 64: <gurobi.Constr *Awaiting Model Update*>,\n",
              " 65: <gurobi.Constr *Awaiting Model Update*>,\n",
              " 66: <gurobi.Constr *Awaiting Model Update*>,\n",
              " 67: <gurobi.Constr *Awaiting Model Update*>,\n",
              " 68: <gurobi.Constr *Awaiting Model Update*>,\n",
              " 69: <gurobi.Constr *Awaiting Model Update*>,\n",
              " 70: <gurobi.Constr *Awaiting Model Update*>,\n",
              " 71: <gurobi.Constr *Awaiting Model Update*>,\n",
              " 72: <gurobi.Constr *Awaiting Model Update*>,\n",
              " 73: <gurobi.Constr *Awaiting Model Update*>,\n",
              " 74: <gurobi.Constr *Awaiting Model Update*>,\n",
              " 75: <gurobi.Constr *Awaiting Model Update*>,\n",
              " 76: <gurobi.Constr *Awaiting Model Update*>,\n",
              " 77: <gurobi.Constr *Awaiting Model Update*>,\n",
              " 78: <gurobi.Constr *Awaiting Model Update*>,\n",
              " 79: <gurobi.Constr *Awaiting Model Update*>}"
            ]
          },
          "metadata": {},
          "execution_count": 11
        }
      ],
      "source": [
        "# Create a gurobipy model\n",
        "model = gp.Model(\"production_planning\")\n",
        "\n",
        "# Decision variable\n",
        "x = model.addVars(I, J, K, vtype=gp.GRB.BINARY, name=\"Assigning staff i to day j at shift k\")\n",
        "\n",
        "# Objective function\n",
        "model.setObjective(gp.quicksum(x[i, j, k] for i in range(I) for j in range(J) for k in range(K)), gp.GRB.MINIMIZE)\n",
        "\n",
        "# Constraints\n",
        "\n",
        "# Cons 1\n",
        "model.addConstrs((gp.quicksum(x[i, j, k] for i in range(I)) >= demand[j][k] for j in range(J) for k in range(K)), name=\"demand fulfill\")\n",
        "\n",
        "# Cons 2\n",
        "model.addConstrs((gp.quicksum(x[i, j, k] for k in range(K)) <= 1 for i in range(I) for j in range(J)), name=\"max 1 shift a day\")\n",
        "\n",
        "# Cons 3\n",
        "model.addConstrs((gp.quicksum(x[i, j, k] for j in range(J) for k in range(K)) <= 5*ft[i] + 3*(1-ft[i]) for i in range(I)), name=\"5 days for full-time & 3 days for part-time\")\n",
        "\n",
        "# Cons 4\n",
        "model.addConstrs((x[i, j, 2] + x[i, j+1, 0] <= 1 for i in range(I) for j in range(J-1)), name=\"if work on shift 3 today then no work on shift 1 tomorrow\") #Bc Python starts from 0,1,2,...\n",
        "\n",
        "# Cons 5\n",
        "model.addConstrs((gp.quicksum(x[i, j, 2] for j in range(J)) <= 2 for i in range(I)), name=\"max 2 night shifts\")"
      ]
    },
    {
      "cell_type": "code",
      "execution_count": 12,
      "metadata": {
        "colab": {
          "base_uri": "https://localhost:8080/"
        },
        "id": "P8Fnh704my3u",
        "outputId": "f068e7ee-d0ec-40aa-89a6-1161b7859c46"
      },
      "outputs": [
        {
          "output_type": "stream",
          "name": "stdout",
          "text": [
            "Gurobi Optimizer version 12.0.3 build v12.0.3rc0 (linux64 - \"Ubuntu 22.04.4 LTS\")\n",
            "\n",
            "CPU model: Intel(R) Xeon(R) CPU @ 2.20GHz, instruction set [SSE2|AVX|AVX2]\n",
            "Thread count: 1 physical cores, 2 logical processors, using up to 2 threads\n",
            "\n",
            "Optimize a model with 1221 rows, 1680 columns and 6560 nonzeros\n",
            "Model fingerprint: 0x07f2f6da\n",
            "Variable types: 0 continuous, 1680 integer (1680 binary)\n",
            "Coefficient statistics:\n",
            "  Matrix range     [1e+00, 1e+00]\n",
            "  Objective range  [1e+00, 1e+00]\n",
            "  Bounds range     [1e+00, 1e+00]\n",
            "  RHS range        [1e+00, 2e+01]\n",
            "Found heuristic solution: objective 359.0000000\n",
            "Presolve time: 0.02s\n",
            "Presolved: 1221 rows, 1680 columns, 6560 nonzeros\n",
            "Variable types: 0 continuous, 1680 integer (1680 binary)\n",
            "\n",
            "Root relaxation: cutoff, 31 iterations, 0.00 seconds (0.00 work units)\n",
            "\n",
            "    Nodes    |    Current Node    |     Objective Bounds      |     Work\n",
            " Expl Unexpl |  Obj  Depth IntInf | Incumbent    BestBd   Gap | It/Node Time\n",
            "\n",
            "     0     0     cutoff    0       359.00000  359.00000  0.00%     -    0s\n",
            "\n",
            "Explored 1 nodes (31 simplex iterations) in 0.04 seconds (0.01 work units)\n",
            "Thread count was 2 (of 2 available processors)\n",
            "\n",
            "Solution count 1: 359 \n",
            "\n",
            "Optimal solution found (tolerance 1.00e-04)\n",
            "Best objective 3.590000000000e+02, best bound 3.590000000000e+02, gap 0.0000%\n"
          ]
        }
      ],
      "source": [
        "# Optimize model\n",
        "model.optimize()"
      ]
    },
    {
      "cell_type": "code",
      "execution_count": 13,
      "metadata": {
        "colab": {
          "base_uri": "https://localhost:8080/"
        },
        "id": "6uSPA-6Gm9HC",
        "outputId": "a50bff27-ed19-4ec7-cf58-6580562f0ccc"
      },
      "outputs": [
        {
          "output_type": "stream",
          "name": "stdout",
          "text": [
            "     Staff  Day Shift    Status\n",
            "0        1    1     1  Assigned\n",
            "1        1    2   N/A     Leave\n",
            "2        1    3     1  Assigned\n",
            "3        1    4   N/A     Leave\n",
            "4        1    5     2  Assigned\n",
            "..     ...  ...   ...       ...\n",
            "555     80    3   N/A     Leave\n",
            "556     80    4     1  Assigned\n",
            "557     80    5   N/A     Leave\n",
            "558     80    6   N/A     Leave\n",
            "559     80    7   N/A     Leave\n",
            "\n",
            "[560 rows x 4 columns]\n"
          ]
        }
      ],
      "source": [
        "if model.status == gp.GRB.OPTIMAL:\n",
        "    # Prepare data for the table\n",
        "    table_data = []\n",
        "\n",
        "    for i in range(I):\n",
        "        for j in range(J):\n",
        "            shifts = [k + 1 for k in range(K) if x[i, j, k].x > 1e-6]\n",
        "            if shifts:\n",
        "                for k in shifts:\n",
        "                    table_data.append({\n",
        "                        'Staff': i + 1,  # Staff numbers starting from 1\n",
        "                        'Day': j + 1,    # Days starting from 1\n",
        "                        'Shift': k,      # Shifts starting from 1\n",
        "                        'Status': 'Assigned'\n",
        "                    })\n",
        "            else:\n",
        "                # No shifts assigned on this day, so staff is on leave\n",
        "                table_data.append({\n",
        "                    'Staff': i + 1,\n",
        "                    'Day': j + 1,\n",
        "                    'Shift': 'N/A',\n",
        "                    'Status': 'Leave'\n",
        "                })\n",
        "\n",
        "    # Create DataFrame\n",
        "    df = pd.DataFrame(table_data)\n",
        "\n",
        "    # Print the DataFrame\n",
        "    print(df)\n",
        "\n",
        "    # Optionally, save to a CSV file\n",
        "    df.to_csv('staff_assignment.csv', index=False)\n",
        "\n",
        "else:\n",
        "    print(\"No optimal solution found.\")"
      ]
    }
  ],
  "metadata": {
    "colab": {
      "provenance": []
    },
    "kernelspec": {
      "display_name": "Python 3",
      "name": "python3"
    },
    "language_info": {
      "name": "python"
    }
  },
  "nbformat": 4,
  "nbformat_minor": 0
}